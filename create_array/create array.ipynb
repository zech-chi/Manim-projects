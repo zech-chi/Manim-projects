{
 "cells": [
  {
   "cell_type": "code",
   "execution_count": 1,
   "id": "738cc258",
   "metadata": {},
   "outputs": [
    {
     "data": {
      "text/html": [
       "<pre style=\"white-space:pre;overflow-x:auto;line-height:normal;font-family:Menlo,'DejaVu Sans Mono',consolas,'Courier New',monospace\">Manim Community <span style=\"color: #008000; text-decoration-color: #008000\">v0.17.1</span>\n",
       "\n",
       "</pre>\n"
      ],
      "text/plain": [
       "Manim Community \u001b[32mv0.\u001b[0m\u001b[32m17.1\u001b[0m\n",
       "\n"
      ]
     },
     "metadata": {},
     "output_type": "display_data"
    }
   ],
   "source": [
    "from manim import *\n",
    "config.media_width = \"75%\"\n",
    "config.verbosity = \"WARNING\"\n",
    "\n",
    "# Configure Manim to use LaTeX for rendering equations\n",
    "config.renderer = \"cairo\"\n",
    "config.tex_template = TexTemplate()\n"
   ]
  },
  {
   "cell_type": "code",
   "execution_count": 2,
   "id": "4668d971",
   "metadata": {},
   "outputs": [
    {
     "name": "stderr",
     "output_type": "stream",
     "text": [
      "                                                                                                                       \r"
     ]
    },
    {
     "data": {
      "text/html": [
       "<video src=\"media\\jupyter\\CreateArray@2023-10-21@13-38-35.mp4\" controls autoplay loop style=\"max-width: 75%;\"  >\n",
       "      Your browser does not support the <code>video</code> element.\n",
       "    </video>"
      ],
      "text/plain": [
       "<IPython.core.display.Video object>"
      ]
     },
     "metadata": {},
     "output_type": "display_data"
    }
   ],
   "source": [
    "%%manim -qm CreateArray\n",
    "class CreateArray(Scene):\n",
    "    def construct(self):\n",
    "        arr1 = [0, 4, 5, 6, 1, 6, 7, 0, 3, 1, 3]\n",
    "        ARR1 = self.create_array(arr1, with_index=True)\n",
    "        grouping = [VGroup(*row) for row in ARR1]\n",
    "        group = VGroup(*grouping)\n",
    "        group.move_to([0, 0, 0])\n",
    "        self.play_array(group)\n",
    "        \n",
    "    def play_array(self, ARR):\n",
    "        for i in range(len(ARR)):\n",
    "            self.play(FadeIn(ARR[i]), run_time = 0.2)\n",
    "        \n",
    "    def create_array(self, arr, with_index=False):\n",
    "        # square business\n",
    "        side_length_of_square = 0.7\n",
    "        color_of_square = BLUE\n",
    "        stroke_width_of_square = 5\n",
    "        space_between_squares = side_length_of_square // 2\n",
    "        '''\n",
    "        ARRAY for storing [index, square, value]\n",
    "                      index \n",
    "                     ________\n",
    "                    |        |\n",
    "                    | value  |\n",
    "                    |________| \n",
    "        '''\n",
    "        ARRAY = []\n",
    "        for i in range(len(arr)):\n",
    "            square = Square(\n",
    "                side_length=side_length_of_square, \n",
    "                color=color_of_square, \n",
    "                stroke_width=stroke_width_of_square\n",
    "            )\n",
    "            if i != 0:\n",
    "                square.next_to(ARRAY[-1][0])\n",
    "\n",
    "            value = MathTex(arr[i])\n",
    "            value.move_to(square)\n",
    "            \n",
    "            \n",
    "            if with_index:\n",
    "                index = MathTex(i)\n",
    "                index.next_to(square, UP)\n",
    "                ARRAY.append([square, value, index])\n",
    "            else:\n",
    "                ARRAY.append([square, value])\n",
    "\n",
    "        return ARRAY"
   ]
  },
  {
   "cell_type": "code",
   "execution_count": null,
   "id": "ad89d585",
   "metadata": {},
   "outputs": [],
   "source": []
  }
 ],
 "metadata": {
  "kernelspec": {
   "display_name": "Python 3 (ipykernel)",
   "language": "python",
   "name": "python3"
  },
  "language_info": {
   "codemirror_mode": {
    "name": "ipython",
    "version": 3
   },
   "file_extension": ".py",
   "mimetype": "text/x-python",
   "name": "python",
   "nbconvert_exporter": "python",
   "pygments_lexer": "ipython3",
   "version": "3.9.7"
  },
  "varInspector": {
   "cols": {
    "lenName": 16,
    "lenType": 16,
    "lenVar": 40
   },
   "kernels_config": {
    "python": {
     "delete_cmd_postfix": "",
     "delete_cmd_prefix": "del ",
     "library": "var_list.py",
     "varRefreshCmd": "print(var_dic_list())"
    },
    "r": {
     "delete_cmd_postfix": ") ",
     "delete_cmd_prefix": "rm(",
     "library": "var_list.r",
     "varRefreshCmd": "cat(var_dic_list()) "
    }
   },
   "types_to_exclude": [
    "module",
    "function",
    "builtin_function_or_method",
    "instance",
    "_Feature"
   ],
   "window_display": false
  }
 },
 "nbformat": 4,
 "nbformat_minor": 5
}
